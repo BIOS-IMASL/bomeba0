{
 "cells": [
  {
   "cell_type": "code",
   "execution_count": 7,
   "metadata": {
    "collapsed": true
   },
   "outputs": [],
   "source": [
    "%matplotlib notebook\n",
    "import numpy as np\n",
    "import matplotlib.pyplot as plt\n",
    "from mpl_toolkits.mplot3d import Axes3D"
   ]
  },
  {
   "cell_type": "code",
   "execution_count": 8,
   "metadata": {
    "collapsed": true
   },
   "outputs": [],
   "source": [
    "pdb = 'structures/alanine_beta.pdb'\n",
    "#Protein coordinates\n",
    "XYZ = np.genfromtxt(pdb)[:,5:8]\n",
    "#Selection coordinates\n",
    "l = np.genfromtxt(pdb)[[0,5],:][:,5:8]\n",
    "m = np.genfromtxt(pdb)[[1,6,4,7,8,9,2,3],:][:,5:8]\n",
    "n = np.genfromtxt(pdb)[[10,11,14,15,16,17,18,19],:][:,5:8]\n",
    "o = np.genfromtxt(pdb)[[12,13,20,25],:][:,5:8]\n",
    "p = np.genfromtxt(pdb)[[21,22,23,24,26,27,28,29],:][:,5:8]\n",
    "selec = [l, m, n, o, p]"
   ]
  },
  {
   "cell_type": "code",
   "execution_count": 9,
   "metadata": {
    "collapsed": true
   },
   "outputs": [],
   "source": [
    "class Node:    \n",
    "    \n",
    "    \"\"\"Constructor to create a new node\"\"\"\n",
    "    \n",
    "    def __init__(self, obb, parents, children):\n",
    "        self.obb = obb \n",
    "        self.parents = parents\n",
    "        self.children = children\n",
    "        \n",
    "    def __str__(self):\n",
    "        return '%s    %s    %s' % (self.obb, self.parents, self.children)\n",
    "        \n",
    "    def Vertex_OBB(XYZ):\n",
    "        \"\"\"\n",
    "        Computes the 8 vertex of the Oriented Bounding Box\n",
    "        -----------\n",
    "        Arguments:\n",
    "        -----------\n",
    "        XYZ : array of shape (n,3). Contains the coordinates of\n",
    "              the atoms to be enclosed by the OBB.        \n",
    "        \"\"\"\n",
    "        \n",
    "        # Compute scatter matrix\n",
    "        scat = XYZ.T @ XYZ\n",
    "        # Compute singular values or eigenvalues\n",
    "        eigen_vecs, _, _ = np.linalg.svd(scat)\n",
    "        #_, eigen_vecs = np.linalg.eig(scat)\n",
    "\n",
    "        # project XY onto the \"principal axes\"\n",
    "        XYZ_proj = XYZ @ eigen_vecs\n",
    "\n",
    "        # compute min/max values (or whatever you need)\n",
    "        min_x, min_y, min_z = np.min(XYZ_proj, 0)\n",
    "        max_x, max_y, max_z = np.max(XYZ_proj, 0)\n",
    "\n",
    "        #S radius\n",
    "        Sr = 1.85\n",
    "\n",
    "        ver_proj_S = np.array([[min_x - Sr, min_y - Sr, min_z - Sr],#\n",
    "                         [min_x - Sr, max_y + Sr, min_z - Sr],#\n",
    "                         [max_x + Sr, min_y - Sr, min_z - Sr],\n",
    "                         [max_x + Sr, max_y + Sr, min_z - Sr],\n",
    "                         [min_x - Sr, min_y - Sr, max_z + Sr],#\n",
    "                         [min_x - Sr, max_y + Sr, max_z + Sr],#\n",
    "                         [max_x + Sr, min_y - Sr, max_z + Sr],\n",
    "                         [max_x + Sr, max_y + Sr, max_z + Sr]])\n",
    "        \n",
    "        ver_proj = np.array([[min_x , min_y , min_z ],#\n",
    "                         [min_x, max_y, min_z ],#\n",
    "                         [max_x, min_y, min_z ],\n",
    "                         [max_x, max_y, min_z],\n",
    "                         [min_x, min_y, max_z],#\n",
    "                         [min_x, max_y, max_z],#\n",
    "                         [max_x, min_y, max_z],\n",
    "                         [max_x, max_y, max_z]])\n",
    "\n",
    "        # project min/max values back to the original system\n",
    "        vertex = ver_proj_S @ eigen_vecs.T\n",
    "        #ver = ver_proj @ eigen_vecs.T # use this with eigenvalues\n",
    "        return vertex, eigen_vecs, ver_proj #OBB coords, transformation matrix, original coords w/o sum of Sr\n",
    "    \n",
    "        \n",
    "class BVH:\n",
    "    \"\"\"Binding Volume Hierarchy.\n",
    "       Object representing a Tree.\"\"\"\n",
    "    \n",
    "    def __init__(self, left, right):\n",
    "        self.left = left\n",
    "        self.right = right\n",
    "    \n",
    "    def __str__(self):\n",
    "        return '%s    %s' % (self.left, self.right)\n",
    "    \n",
    "    def combine_nodes(a , b):\n",
    "        \"\"\"\" Creates an OBB combining two children nodes\n",
    "        -----------\n",
    "        Arguments:\n",
    "        -----------\n",
    "        a, b : Nodes \n",
    "        \"\"\"\n",
    "        \n",
    "        c_ = np.array([a.obb[2][0].tolist(),\n",
    "             a.obb[2][1].tolist(),\n",
    "             a.obb[2][4].tolist(),\n",
    "             a.obb[2][5].tolist(),\n",
    "             b.obb[2][2].tolist(),\n",
    "             b.obb[2][3].tolist(),\n",
    "             b.obb[2][6].tolist(),\n",
    "             b.obb[2][7].tolist()])\n",
    "        \n",
    "        c = Node.Vertex_OBB(c_)\n",
    "        \n",
    "        return Node(c, parents = 1, children = 2)"
   ]
  },
  {
   "cell_type": "code",
   "execution_count": 10,
   "metadata": {},
   "outputs": [
    {
     "data": {
      "text/plain": [
       "<__main__.BVH at 0x7fca1e51aac8>"
      ]
     },
     "execution_count": 10,
     "metadata": {},
     "output_type": "execute_result"
    }
   ],
   "source": [
    "#In the future a single function should create all of these\n",
    "a_nodo = Node(Node.Vertex_OBB(l), parents = 1, children = 0)\n",
    "b_nodo = Node(Node.Vertex_OBB(m), parents = 1, children = 0)\n",
    "c_nodo = Node(Node.Vertex_OBB(n), parents = 1, children = 0)\n",
    "d_nodo = Node(Node.Vertex_OBB(o), parents = 1, children = 0)\n",
    "e_nodo = Node(Node.Vertex_OBB(p), parents = 1, children = 0)\n",
    "\n",
    "f_nodo = BVH.combine_nodes(a_nodo, b_nodo)\n",
    "g_nodo = BVH.combine_nodes(c_nodo, d_nodo)\n",
    "h_nodo = BVH.combine_nodes(e_nodo, e_nodo)\n",
    "\n",
    "i_nodo = BVH.combine_nodes(f_nodo, g_nodo)\n",
    "j_nodo = BVH.combine_nodes(h_nodo, h_nodo)\n",
    "\n",
    "k_nodo = BVH.combine_nodes(i_nodo, j_nodo)\n",
    "\n",
    "BVH(f_nodo, BVH(a_nodo, b_nodo))\n",
    "BVH(g_nodo, BVH(c_nodo, d_nodo))\n",
    "BVH(h_nodo, BVH(e_nodo, e_nodo))\n",
    "\n",
    "BVH(i_nodo, BVH(f_nodo, g_nodo))\n",
    "BVH(j_nodo, BVH(h_nodo, h_nodo))\n",
    "\n",
    "BVH(i_nodo, j_nodo)"
   ]
  },
  {
   "cell_type": "code",
   "execution_count": 36,
   "metadata": {},
   "outputs": [
    {
     "data": {
      "text/plain": [
       "[<__main__.Node at 0x7fca1c49d208>,\n",
       " <__main__.Node at 0x7fca1c4ad5f8>,\n",
       " <__main__.Node at 0x7fca1c4ad668>,\n",
       " <__main__.Node at 0x7fca1c49d240>,\n",
       " <__main__.Node at 0x7fca1c49d080>,\n",
       " <__main__.Node at 0x7fca1c4ad4e0>,\n",
       " <__main__.Node at 0x7fca1c49d080>,\n",
       " <__main__.Node at 0x7fca1c4ad4e0>,\n",
       " <__main__.Node at 0x7fca1c4ad4e0>,\n",
       " <__main__.Node at 0x7fca1c4ad4e0>]"
      ]
     },
     "execution_count": 36,
     "metadata": {},
     "output_type": "execute_result"
    }
   ],
   "source": [
    "def create_nodes(a): #build tree\n",
    "    \n",
    "    \"\"\"\n",
    "    Creates every node\n",
    "    -----------\n",
    "    Arguments:\n",
    "    -----------\n",
    "    a : List of arrays containing selection coordinates\n",
    "    \"\"\"\n",
    "    lower_layer = []\n",
    "    for i in selec:\n",
    "        node = Node(Node.Vertex_OBB(i), parents = 1, children = 0)\n",
    "        lower_layer.append(node)\n",
    "        \n",
    "    combine = [lower_layer[n:n+2] for n in range(0, len(lower_layer), 2)]\n",
    "    \n",
    "    \n",
    "    ith_layer=[]\n",
    "    for i in range(0, len(lower_layer)-1):\n",
    "        if len(lower_layer) % 2 != 0: #odd\n",
    "            for a in range(0,len(combine)-2):\n",
    "                f = BVH.combine_nodes(combine[a][0], combine[a][1])\n",
    "                ith_layer.append(f)\n",
    "            h = combine[-1][0]\n",
    "            ith_layer.append(h)\n",
    "            combine = [ith_layer[n:n+2] for n in range(0, len(ith_layer), 2)]\n",
    "\n",
    "        else: #even\n",
    "            for a in range(0,len(combine)-1):\n",
    "                f = BVH.combine_nodes(combine[a][0], combine[a][1])\n",
    "                ith_layer.append(f)\n",
    "            combine = [ith_layer[n:n+2] for n in range(0, len(ith_layer), 2)]\n",
    "    \n",
    "    return ith_layer\n",
    "\n",
    "\n",
    "create_nodes(selec)    "
   ]
  },
  {
   "cell_type": "code",
   "execution_count": null,
   "metadata": {
    "collapsed": true
   },
   "outputs": [],
   "source": [
    "fig = plt.figure()\n",
    "ax = fig.add_subplot(111, projection='3d')\n",
    "ax.scatter(XYZ[:,0], XYZ[:,1], XYZ[:,2])\n",
    "#ax.scatter(k_nodo.obb[0][:,0],  k_nodo.obb[0][:,1], k_nodo.obb[0][:,2], c ='r')\n",
    "ax.scatter(h_nodo.obb[0][:,0],  h_nodo.obb[0][:,1], h_nodo.obb[0][:,2], c ='r')\n",
    "ax.scatter(f_nodo.obb[0][:,0],  f_nodo.obb[0][:,1], f_nodo.obb[0][:,2], c ='g')\n",
    "ax.scatter(g_nodo.obb[0][:,0],  g_nodo.obb[0][:,1], g_nodo.obb[0][:,2], c ='y');"
   ]
  }
 ],
 "metadata": {
  "kernelspec": {
   "display_name": "Python 3",
   "language": "python",
   "name": "python3"
  },
  "language_info": {
   "codemirror_mode": {
    "name": "ipython",
    "version": 3
   },
   "file_extension": ".py",
   "mimetype": "text/x-python",
   "name": "python",
   "nbconvert_exporter": "python",
   "pygments_lexer": "ipython3",
   "version": "3.5.2"
  }
 },
 "nbformat": 4,
 "nbformat_minor": 2
}
