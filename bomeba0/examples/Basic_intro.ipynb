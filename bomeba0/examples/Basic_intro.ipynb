{
 "cells": [
  {
   "cell_type": "code",
   "execution_count": 1,
   "metadata": {
    "collapsed": true
   },
   "outputs": [],
   "source": [
    "%matplotlib inline\n",
    "import numpy as np\n",
    "import bomeba0 as bmb"
   ]
  },
  {
   "cell_type": "markdown",
   "metadata": {},
   "source": [
    "The first thing we do to use bomeba is to create a protein object. At this point we can only do this by specifying an aminoacidic sequence, like this:"
   ]
  },
  {
   "cell_type": "code",
   "execution_count": 2,
   "metadata": {
    "collapsed": true
   },
   "outputs": [],
   "source": [
    "prot = bmb.Protein('GAG')"
   ]
  },
  {
   "cell_type": "markdown",
   "metadata": {},
   "source": [
    "A protein object has several attributes for example we can retrieve the sequence"
   ]
  },
  {
   "cell_type": "code",
   "execution_count": 3,
   "metadata": {},
   "outputs": [
    {
     "data": {
      "text/plain": [
       "'GAG'"
      ]
     },
     "execution_count": 3,
     "metadata": {},
     "output_type": "execute_result"
    }
   ],
   "source": [
    "prot.sequence"
   ]
  },
  {
   "cell_type": "markdown",
   "metadata": {},
   "source": [
    "or the cartesian coordinates"
   ]
  },
  {
   "cell_type": "code",
   "execution_count": 4,
   "metadata": {},
   "outputs": [
    {
     "data": {
      "text/plain": [
       "array([[-1.19500005,  0.20100001, -0.206     ],\n",
       "       [ 0.23      ,  0.31799999, -0.50199997],\n",
       "       [ 1.05900002, -0.38999999,  0.542     ],\n",
       "       [ 0.54500002, -0.97500002,  1.49899995],\n",
       "       [-1.55799997, -0.333     ,  0.66000003],\n",
       "       [ 0.48199999,  1.33700001, -0.514     ],\n",
       "       [ 0.43399999, -0.15899999, -1.47899997],\n",
       "       [ 2.34725648, -0.28422738,  0.27440431],\n",
       "       [ 3.14906259, -0.96900264,  1.28415767],\n",
       "       [ 4.62267437, -0.84767082,  0.97752639],\n",
       "       [ 5.03890863, -0.22680487, -0.00789004],\n",
       "       [ 2.67180522, -2.43091278,  1.34657687],\n",
       "       [ 2.79649566,  0.22797208, -0.56379358],\n",
       "       [ 2.97612006, -0.48359174,  2.26198234],\n",
       "       [ 1.59890959, -2.50156456,  1.60909417],\n",
       "       [ 2.80237096, -2.953343  ,  0.37987772],\n",
       "       [ 3.22350334, -3.0120278 ,  2.10759223],\n",
       "       [ 5.34762693, -1.46681   ,  1.89049433],\n",
       "       [ 6.772499  , -1.34949122,  1.59400489],\n",
       "       [ 7.60201491, -2.05732684,  2.6377065 ],\n",
       "       [ 7.08847382, -2.64245661,  3.59487349],\n",
       "       [ 4.98504329, -2.00090493,  2.75661021],\n",
       "       [ 7.02427055, -0.33043555,  1.5819357 ],\n",
       "       [ 6.97626696, -1.82642933,  0.61692626]])"
      ]
     },
     "execution_count": 4,
     "metadata": {},
     "output_type": "execute_result"
    }
   ],
   "source": [
    "prot.coords"
   ]
  },
  {
   "cell_type": "markdown",
   "metadata": {},
   "source": [
    "We can also compute the energy of our protein. At the moment the energy is computed in vacumm, with a very simple force-field that only includes a Lenard-Joness potential and use only four atoms (C,H,O,N)."
   ]
  },
  {
   "cell_type": "code",
   "execution_count": 5,
   "metadata": {},
   "outputs": [
    {
     "data": {
      "text/plain": [
       "62.66593634230137"
      ]
     },
     "execution_count": 5,
     "metadata": {},
     "output_type": "execute_result"
    }
   ],
   "source": [
    "prot.energy()"
   ]
  },
  {
   "cell_type": "markdown",
   "metadata": {},
   "source": [
    "We can ask for the lenght of our protein (in terms of amino acids)"
   ]
  },
  {
   "cell_type": "code",
   "execution_count": 6,
   "metadata": {},
   "outputs": [
    {
     "data": {
      "text/plain": [
       "3"
      ]
     },
     "execution_count": 6,
     "metadata": {},
     "output_type": "execute_result"
    }
   ],
   "source": [
    "len(prot)"
   ]
  },
  {
   "cell_type": "markdown",
   "metadata": {},
   "source": [
    "We can ask for the coordinates of individuals atoms"
   ]
  },
  {
   "cell_type": "code",
   "execution_count": 7,
   "metadata": {
    "collapsed": true
   },
   "outputs": [],
   "source": [
    "CA_0 = prot.at_coords(0, 'CA')\n",
    "CA_1 = prot.at_coords(1, 'CA')"
   ]
  },
  {
   "cell_type": "markdown",
   "metadata": {},
   "source": [
    "And we can use those coordinates to compute, for example, distances."
   ]
  },
  {
   "cell_type": "code",
   "execution_count": 8,
   "metadata": {},
   "outputs": [
    {
     "data": {
      "text/plain": [
       "3.6561812391900586"
      ]
     },
     "execution_count": 8,
     "metadata": {},
     "output_type": "execute_result"
    }
   ],
   "source": [
    "bmb.utils.dist(CA_0, CA_1)"
   ]
  },
  {
   "cell_type": "markdown",
   "metadata": {},
   "source": [
    "We can ask for all the torsional angles in our molecule, "
   ]
  },
  {
   "cell_type": "code",
   "execution_count": 9,
   "metadata": {},
   "outputs": [
    {
     "data": {
      "text/html": [
       "<div>\n",
       "<table border=\"1\" class=\"dataframe\">\n",
       "  <thead>\n",
       "    <tr style=\"text-align: right;\">\n",
       "      <th></th>\n",
       "      <th>phi</th>\n",
       "      <th>psi</th>\n",
       "    </tr>\n",
       "  </thead>\n",
       "  <tbody>\n",
       "    <tr>\n",
       "      <th>0</th>\n",
       "      <td>NaN</td>\n",
       "      <td>180.0</td>\n",
       "    </tr>\n",
       "    <tr>\n",
       "      <th>1</th>\n",
       "      <td>-180.0</td>\n",
       "      <td>180.0</td>\n",
       "    </tr>\n",
       "    <tr>\n",
       "      <th>2</th>\n",
       "      <td>-180.0</td>\n",
       "      <td>NaN</td>\n",
       "    </tr>\n",
       "  </tbody>\n",
       "</table>\n",
       "</div>"
      ],
      "text/plain": [
       "     phi    psi\n",
       "0    NaN  180.0\n",
       "1 -180.0  180.0\n",
       "2 -180.0    NaN"
      ]
     },
     "execution_count": 9,
     "metadata": {},
     "output_type": "execute_result"
    }
   ],
   "source": [
    "prot.get_torsionals(sidechain=False)"
   ]
  },
  {
   "cell_type": "markdown",
   "metadata": {},
   "source": [
    "and we can change them!"
   ]
  },
  {
   "cell_type": "code",
   "execution_count": 10,
   "metadata": {
    "collapsed": true
   },
   "outputs": [],
   "source": [
    "prot.set_phi(1, -60)\n",
    "prot.set_psi(1, -40)"
   ]
  },
  {
   "cell_type": "markdown",
   "metadata": {},
   "source": [
    "and we can plot a minimalistic ramachadran!"
   ]
  },
  {
   "cell_type": "code",
   "execution_count": 11,
   "metadata": {},
   "outputs": [
    {
     "data": {
      "image/png": "[encoded data removed]",
      "text/plain": [
       "<matplotlib.figure.Figure at 0x7f07224be198>"
      ]
     },
     "metadata": {},
     "output_type": "display_data"
    }
   ],
   "source": [
    "bmb.plot_ramachandran(prot);"
   ]
  }
 ],
 "metadata": {
  "kernelspec": {
   "display_name": "Python 3",
   "language": "python",
   "name": "python3"
  },
  "language_info": {
   "codemirror_mode": {
    "name": "ipython",
    "version": 3
   },
   "file_extension": ".py",
   "mimetype": "text/x-python",
   "name": "python",
   "nbconvert_exporter": "python",
   "pygments_lexer": "ipython3",
   "version": "3.5.2"
  }
 },
 "nbformat": 4,
 "nbformat_minor": 2
}
