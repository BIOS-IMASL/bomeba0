{
 "cells": [
  {
   "cell_type": "code",
   "execution_count": 35,
   "metadata": {
    "collapsed": true
   },
   "outputs": [],
   "source": [
    "%matplotlib inline\n",
    "import numpy as np\n",
    "import bomeba0 as bmb\n",
    "import matplotlib.pyplot as plt"
   ]
  },
  {
   "cell_type": "markdown",
   "metadata": {},
   "source": [
    "The first thing we do to use bomeba is to create a protein object. We can do this by passing a sequence (using one-letter code). At the moment only the 20 most common amino-acids are accepted."
   ]
  },
  {
   "cell_type": "code",
   "execution_count": 12,
   "metadata": {
    "collapsed": true
   },
   "outputs": [],
   "source": [
    "prot = bmb.Protein('GAG')"
   ]
  },
  {
   "cell_type": "markdown",
   "metadata": {},
   "source": [
    "A protein object has several attributes for example we can retrieve the sequence"
   ]
  },
  {
   "cell_type": "code",
   "execution_count": 3,
   "metadata": {},
   "outputs": [
    {
     "data": {
      "text/plain": [
       "'GAG'"
      ]
     },
     "execution_count": 3,
     "metadata": {},
     "output_type": "execute_result"
    }
   ],
   "source": [
    "prot.sequence"
   ]
  },
  {
   "cell_type": "markdown",
   "metadata": {},
   "source": [
    "or the cartesian coordinates as a (N, 3) numpy array"
   ]
  },
  {
   "cell_type": "code",
   "execution_count": 13,
   "metadata": {},
   "outputs": [
    {
     "data": {
      "text/plain": [
       "array([[-6.31387   ,  1.63056224, -2.10614436],\n",
       "       [-4.86387   ,  1.72056224, -2.36614436],\n",
       "       [-4.02387   ,  1.02056224, -1.31614436],\n",
       "       [-4.19379942,  1.10890302, -0.1266403 ],\n",
       "       [-6.48387   ,  1.10056224, -1.24614436],\n",
       "       [-4.63387   ,  1.26056224, -3.32614436],\n",
       "       [-4.55387   ,  2.77056224, -2.37614436],\n",
       "       [-3.02673676,  0.25617351, -1.84711628],\n",
       "       [-2.21065324, -0.4238961 , -0.82701187],\n",
       "       [-0.72163533, -0.31997492, -1.11236438],\n",
       "       [-0.21913606, -0.48652061, -2.20321589],\n",
       "       [-2.63019998, -1.89860634, -0.7094949 ],\n",
       "       [-2.68407767,  0.00706226, -2.77481684],\n",
       "       [-2.36867485,  0.07153062,  0.13806924],\n",
       "       [-3.70205873, -1.96595026, -0.46704157],\n",
       "       [-2.45908074, -2.42312971, -1.64661466],\n",
       "       [-2.06903575, -2.40560797,  0.07723507],\n",
       "       [ 0.        ,  0.        ,  0.        ],\n",
       "       [ 1.44610297,  0.10092607, -0.27712837],\n",
       "       [ 2.30368518, -0.59338659,  0.76238242],\n",
       "       [ 1.87943295, -1.17717338,  1.72716375],\n",
       "       [-0.18194382,  0.19326128,  0.98941726],\n",
       "       [ 1.66810385, -0.35682016, -1.24008424],\n",
       "       [ 1.74815151,  1.15320814, -0.29013324]])"
      ]
     },
     "execution_count": 13,
     "metadata": {},
     "output_type": "execute_result"
    }
   ],
   "source": [
    "prot.coords"
   ]
  },
  {
   "cell_type": "markdown",
   "metadata": {},
   "source": [
    "We can also compute the energy of our protein. At the moment the energy is computed in vacuum, with a very simple force-field that only includes a Lenard-Jones term:\n",
    "\n",
    "$$LJ_{ij} = \\epsilon \\left [ \\left (\\frac{\\sigma_{ij}}{r_{ij}} \\right)^{12}\n",
    "     - 2 \\left (\\frac{\\sigma_{ij}}{r_{ij}} \\right)^{6} \\right]$$\n",
    "\n",
    "$\\sigma_{ij}$ is the distance at which the potential reaches its minimum\n",
    "\n",
    "$\\epsilon_{ij}$ is the depth of the potential well\n",
    "\n",
    "$r_{ij}$ is the distance between the atoms\n",
    "\n",
    "Only five atoms types are considered (C, H, O, N, S), the parameters are loosely based on the general purpose force field GAFF"
   ]
  },
  {
   "cell_type": "code",
   "execution_count": 5,
   "metadata": {},
   "outputs": [
    {
     "data": {
      "text/plain": [
       "29.368874398924792"
      ]
     },
     "execution_count": 5,
     "metadata": {},
     "output_type": "execute_result"
    }
   ],
   "source": [
    "prot.energy()"
   ]
  },
  {
   "cell_type": "markdown",
   "metadata": {},
   "source": [
    "We can also compute the radius of gyration, i.e. the root mean squared deviation of all atoms with respect to their common geometric center."
   ]
  },
  {
   "cell_type": "code",
   "execution_count": 28,
   "metadata": {},
   "outputs": [
    {
     "data": {
      "text/plain": [
       "2.8353879415596124"
      ]
     },
     "execution_count": 28,
     "metadata": {},
     "output_type": "execute_result"
    }
   ],
   "source": [
    "prot.rgyr()"
   ]
  },
  {
   "cell_type": "markdown",
   "metadata": {},
   "source": [
    "As with other Python object we can ask for the lenght of our protein. The answer we get is the number of amino acids."
   ]
  },
  {
   "cell_type": "code",
   "execution_count": 14,
   "metadata": {},
   "outputs": [
    {
     "data": {
      "text/plain": [
       "3"
      ]
     },
     "execution_count": 14,
     "metadata": {},
     "output_type": "execute_result"
    }
   ],
   "source": [
    "len(prot)"
   ]
  },
  {
   "cell_type": "markdown",
   "metadata": {},
   "source": [
    "We can ask for the coordinates of individuals atoms, we have to specify the residue number and a valid atom name. The atom name is optional is none is passed then we will get the coordinates of the residue, two other options are \"bb\" and \"sc\", for the backbone and sidechains coordinates respectively.\n",
    "\n",
    "Let's not get the coordinates of the first two $\\alpha$ carbons:"
   ]
  },
  {
   "cell_type": "code",
   "execution_count": 16,
   "metadata": {
    "collapsed": true
   },
   "outputs": [],
   "source": [
    "CA_0 = prot.at_coords(0, 'CA')\n",
    "CA_1 = prot.at_coords(1, 'CA')"
   ]
  },
  {
   "cell_type": "markdown",
   "metadata": {},
   "source": [
    "And we can use those coordinates to compute, for example, distances:"
   ]
  },
  {
   "cell_type": "code",
   "execution_count": 17,
   "metadata": {},
   "outputs": [
    {
     "data": {
      "text/plain": [
       "3.742618012013873"
      ]
     },
     "execution_count": 17,
     "metadata": {},
     "output_type": "execute_result"
    }
   ],
   "source": [
    "bmb.utils.dist(CA_0, CA_1)"
   ]
  },
  {
   "cell_type": "markdown",
   "metadata": {},
   "source": [
    "We can ask for all the torsional angles in our molecule, at the moment this only works for $\\phi$ and $\\psi$ torsional angles, sidechain is comming soon!"
   ]
  },
  {
   "cell_type": "code",
   "execution_count": 22,
   "metadata": {},
   "outputs": [
    {
     "data": {
      "text/html": [
       "<div>\n",
       "<style>\n",
       "    .dataframe thead tr:only-child th {\n",
       "        text-align: right;\n",
       "    }\n",
       "\n",
       "    .dataframe thead th {\n",
       "        text-align: left;\n",
       "    }\n",
       "\n",
       "    .dataframe tbody tr th {\n",
       "        vertical-align: top;\n",
       "    }\n",
       "</style>\n",
       "<table border=\"1\" class=\"dataframe\">\n",
       "  <thead>\n",
       "    <tr style=\"text-align: right;\">\n",
       "      <th></th>\n",
       "      <th>aa</th>\n",
       "      <th>phi</th>\n",
       "      <th>psi</th>\n",
       "    </tr>\n",
       "  </thead>\n",
       "  <tbody>\n",
       "    <tr>\n",
       "      <th>0</th>\n",
       "      <td>G</td>\n",
       "      <td>NaN</td>\n",
       "      <td>135.0</td>\n",
       "    </tr>\n",
       "    <tr>\n",
       "      <th>1</th>\n",
       "      <td>A</td>\n",
       "      <td>-135.0</td>\n",
       "      <td>135.0</td>\n",
       "    </tr>\n",
       "    <tr>\n",
       "      <th>2</th>\n",
       "      <td>G</td>\n",
       "      <td>-135.0</td>\n",
       "      <td>NaN</td>\n",
       "    </tr>\n",
       "  </tbody>\n",
       "</table>\n",
       "</div>"
      ],
      "text/plain": [
       "  aa    phi    psi\n",
       "0  G    NaN  135.0\n",
       "1  A -135.0  135.0\n",
       "2  G -135.0    NaN"
      ]
     },
     "execution_count": 22,
     "metadata": {},
     "output_type": "execute_result"
    }
   ],
   "source": [
    "prot.get_torsionals(sidechain=False)"
   ]
  },
  {
   "cell_type": "markdown",
   "metadata": {},
   "source": [
    "and we can also change them!"
   ]
  },
  {
   "cell_type": "code",
   "execution_count": 24,
   "metadata": {},
   "outputs": [
    {
     "data": {
      "text/html": [
       "<div>\n",
       "<style>\n",
       "    .dataframe thead tr:only-child th {\n",
       "        text-align: right;\n",
       "    }\n",
       "\n",
       "    .dataframe thead th {\n",
       "        text-align: left;\n",
       "    }\n",
       "\n",
       "    .dataframe tbody tr th {\n",
       "        vertical-align: top;\n",
       "    }\n",
       "</style>\n",
       "<table border=\"1\" class=\"dataframe\">\n",
       "  <thead>\n",
       "    <tr style=\"text-align: right;\">\n",
       "      <th></th>\n",
       "      <th>aa</th>\n",
       "      <th>phi</th>\n",
       "      <th>psi</th>\n",
       "    </tr>\n",
       "  </thead>\n",
       "  <tbody>\n",
       "    <tr>\n",
       "      <th>0</th>\n",
       "      <td>G</td>\n",
       "      <td>NaN</td>\n",
       "      <td>135.0</td>\n",
       "    </tr>\n",
       "    <tr>\n",
       "      <th>1</th>\n",
       "      <td>A</td>\n",
       "      <td>-60.0</td>\n",
       "      <td>-40.0</td>\n",
       "    </tr>\n",
       "    <tr>\n",
       "      <th>2</th>\n",
       "      <td>G</td>\n",
       "      <td>-135.0</td>\n",
       "      <td>NaN</td>\n",
       "    </tr>\n",
       "  </tbody>\n",
       "</table>\n",
       "</div>"
      ],
      "text/plain": [
       "  aa    phi    psi\n",
       "0  G    NaN  135.0\n",
       "1  A  -60.0  -40.0\n",
       "2  G -135.0    NaN"
      ]
     },
     "execution_count": 24,
     "metadata": {},
     "output_type": "execute_result"
    }
   ],
   "source": [
    "prot.set_phi(1, -60)\n",
    "prot.set_psi(1, -40)\n",
    "prot.get_torsionals(sidechain=False)"
   ]
  },
  {
   "cell_type": "markdown",
   "metadata": {},
   "source": [
    "and we can plot a minimalistic (one-point) ramachadran!"
   ]
  },
  {
   "cell_type": "code",
   "execution_count": 25,
   "metadata": {},
   "outputs": [
    {
     "data": {
      "image/png": "[encoded data removed]",
      "text/plain": [
       "<matplotlib.figure.Figure at 0x7f00018ebd68>"
      ]
     },
     "metadata": {},
     "output_type": "display_data"
    }
   ],
   "source": [
    "bmb.plot_ramachandran(prot);"
   ]
  },
  {
   "cell_type": "code",
   "execution_count": 33,
   "metadata": {},
   "outputs": [],
   "source": [
    "prot = bmb.Protein(pdb='../pdbs/1ubq.pdb')"
   ]
  },
  {
   "cell_type": "code",
   "execution_count": 36,
   "metadata": {},
   "outputs": [
    {
     "data": {
      "text/plain": [
       "[<matplotlib.lines.Line2D at 0x7f0001895438>]"
      ]
     },
     "execution_count": 36,
     "metadata": {},
     "output_type": "execute_result"
    },
    {
     "data": {
      "image/png": "[encoded data removed]",
      "text/plain": [
       "<matplotlib.figure.Figure at 0x7f00018eba90>"
      ]
     },
     "metadata": {},
     "output_type": "display_data"
    }
   ],
   "source": [
    "plt.plot(prot.bfactors)"
   ]
  },
  {
   "cell_type": "code",
   "execution_count": 40,
   "metadata": {},
   "outputs": [
    {
     "data": {
      "text/plain": [
       "array([[ 27.34 ,  24.43 ,   2.614],\n",
       "       [ 26.266,  25.413,   2.842],\n",
       "       [ 26.913,  26.639,   3.531],\n",
       "       ..., \n",
       "       [ 40.031,  39.992,  35.432],\n",
       "       [ 38.933,  40.525,  35.687],\n",
       "       [ 40.862,  39.575,  36.251]])"
      ]
     },
     "execution_count": 40,
     "metadata": {},
     "output_type": "execute_result"
    }
   ],
   "source": [
    "prot.coords"
   ]
  },
  {
   "cell_type": "code",
   "execution_count": 42,
   "metadata": {},
   "outputs": [
    {
     "data": {
      "text/html": [
       "<div>\n",
       "<style>\n",
       "    .dataframe thead tr:only-child th {\n",
       "        text-align: right;\n",
       "    }\n",
       "\n",
       "    .dataframe thead th {\n",
       "        text-align: left;\n",
       "    }\n",
       "\n",
       "    .dataframe tbody tr th {\n",
       "        vertical-align: top;\n",
       "    }\n",
       "</style>\n",
       "<table border=\"1\" class=\"dataframe\">\n",
       "  <thead>\n",
       "    <tr style=\"text-align: right;\">\n",
       "      <th></th>\n",
       "      <th>aa</th>\n",
       "      <th>phi</th>\n",
       "      <th>psi</th>\n",
       "    </tr>\n",
       "  </thead>\n",
       "  <tbody>\n",
       "    <tr>\n",
       "      <th>0</th>\n",
       "      <td>M</td>\n",
       "      <td>NaN</td>\n",
       "      <td>149.63</td>\n",
       "    </tr>\n",
       "    <tr>\n",
       "      <th>1</th>\n",
       "      <td>Q</td>\n",
       "      <td>-91.02</td>\n",
       "      <td>138.26</td>\n",
       "    </tr>\n",
       "    <tr>\n",
       "      <th>2</th>\n",
       "      <td>I</td>\n",
       "      <td>-131.10</td>\n",
       "      <td>163.05</td>\n",
       "    </tr>\n",
       "    <tr>\n",
       "      <th>3</th>\n",
       "      <td>F</td>\n",
       "      <td>-115.99</td>\n",
       "      <td>140.23</td>\n",
       "    </tr>\n",
       "    <tr>\n",
       "      <th>4</th>\n",
       "      <td>V</td>\n",
       "      <td>-118.03</td>\n",
       "      <td>114.22</td>\n",
       "    </tr>\n",
       "    <tr>\n",
       "      <th>5</th>\n",
       "      <td>K</td>\n",
       "      <td>-95.23</td>\n",
       "      <td>127.54</td>\n",
       "    </tr>\n",
       "    <tr>\n",
       "      <th>6</th>\n",
       "      <td>T</td>\n",
       "      <td>-99.58</td>\n",
       "      <td>170.75</td>\n",
       "    </tr>\n",
       "    <tr>\n",
       "      <th>7</th>\n",
       "      <td>L</td>\n",
       "      <td>-73.43</td>\n",
       "      <td>-6.94</td>\n",
       "    </tr>\n",
       "    <tr>\n",
       "      <th>8</th>\n",
       "      <td>T</td>\n",
       "      <td>-101.40</td>\n",
       "      <td>14.93</td>\n",
       "    </tr>\n",
       "    <tr>\n",
       "      <th>9</th>\n",
       "      <td>G</td>\n",
       "      <td>77.44</td>\n",
       "      <td>16.54</td>\n",
       "    </tr>\n",
       "    <tr>\n",
       "      <th>10</th>\n",
       "      <td>K</td>\n",
       "      <td>-96.27</td>\n",
       "      <td>138.08</td>\n",
       "    </tr>\n",
       "    <tr>\n",
       "      <th>11</th>\n",
       "      <td>T</td>\n",
       "      <td>-119.94</td>\n",
       "      <td>131.76</td>\n",
       "    </tr>\n",
       "    <tr>\n",
       "      <th>12</th>\n",
       "      <td>I</td>\n",
       "      <td>-109.47</td>\n",
       "      <td>141.99</td>\n",
       "    </tr>\n",
       "    <tr>\n",
       "      <th>13</th>\n",
       "      <td>T</td>\n",
       "      <td>-101.44</td>\n",
       "      <td>139.74</td>\n",
       "    </tr>\n",
       "    <tr>\n",
       "      <th>14</th>\n",
       "      <td>L</td>\n",
       "      <td>-126.41</td>\n",
       "      <td>154.00</td>\n",
       "    </tr>\n",
       "    <tr>\n",
       "      <th>15</th>\n",
       "      <td>E</td>\n",
       "      <td>-111.80</td>\n",
       "      <td>121.13</td>\n",
       "    </tr>\n",
       "    <tr>\n",
       "      <th>16</th>\n",
       "      <td>V</td>\n",
       "      <td>-139.02</td>\n",
       "      <td>170.72</td>\n",
       "    </tr>\n",
       "    <tr>\n",
       "      <th>17</th>\n",
       "      <td>E</td>\n",
       "      <td>-120.04</td>\n",
       "      <td>144.51</td>\n",
       "    </tr>\n",
       "    <tr>\n",
       "      <th>18</th>\n",
       "      <td>P</td>\n",
       "      <td>-54.94</td>\n",
       "      <td>-24.53</td>\n",
       "    </tr>\n",
       "    <tr>\n",
       "      <th>19</th>\n",
       "      <td>S</td>\n",
       "      <td>-79.84</td>\n",
       "      <td>-8.14</td>\n",
       "    </tr>\n",
       "    <tr>\n",
       "      <th>20</th>\n",
       "      <td>D</td>\n",
       "      <td>-71.01</td>\n",
       "      <td>148.44</td>\n",
       "    </tr>\n",
       "    <tr>\n",
       "      <th>21</th>\n",
       "      <td>T</td>\n",
       "      <td>-83.70</td>\n",
       "      <td>160.43</td>\n",
       "    </tr>\n",
       "    <tr>\n",
       "      <th>22</th>\n",
       "      <td>I</td>\n",
       "      <td>-61.33</td>\n",
       "      <td>-37.21</td>\n",
       "    </tr>\n",
       "    <tr>\n",
       "      <th>23</th>\n",
       "      <td>E</td>\n",
       "      <td>-57.57</td>\n",
       "      <td>-40.49</td>\n",
       "    </tr>\n",
       "    <tr>\n",
       "      <th>24</th>\n",
       "      <td>N</td>\n",
       "      <td>-65.49</td>\n",
       "      <td>-44.44</td>\n",
       "    </tr>\n",
       "    <tr>\n",
       "      <th>25</th>\n",
       "      <td>V</td>\n",
       "      <td>-58.42</td>\n",
       "      <td>-46.41</td>\n",
       "    </tr>\n",
       "    <tr>\n",
       "      <th>26</th>\n",
       "      <td>K</td>\n",
       "      <td>-60.81</td>\n",
       "      <td>-37.96</td>\n",
       "    </tr>\n",
       "    <tr>\n",
       "      <th>27</th>\n",
       "      <td>A</td>\n",
       "      <td>-66.12</td>\n",
       "      <td>-38.12</td>\n",
       "    </tr>\n",
       "    <tr>\n",
       "      <th>28</th>\n",
       "      <td>K</td>\n",
       "      <td>-64.22</td>\n",
       "      <td>-37.26</td>\n",
       "    </tr>\n",
       "    <tr>\n",
       "      <th>29</th>\n",
       "      <td>I</td>\n",
       "      <td>-70.00</td>\n",
       "      <td>-39.56</td>\n",
       "    </tr>\n",
       "    <tr>\n",
       "      <th>...</th>\n",
       "      <td>...</td>\n",
       "      <td>...</td>\n",
       "      <td>...</td>\n",
       "    </tr>\n",
       "    <tr>\n",
       "      <th>46</th>\n",
       "      <td>G</td>\n",
       "      <td>61.71</td>\n",
       "      <td>21.62</td>\n",
       "    </tr>\n",
       "    <tr>\n",
       "      <th>47</th>\n",
       "      <td>K</td>\n",
       "      <td>-115.07</td>\n",
       "      <td>142.71</td>\n",
       "    </tr>\n",
       "    <tr>\n",
       "      <th>48</th>\n",
       "      <td>Q</td>\n",
       "      <td>-85.77</td>\n",
       "      <td>130.28</td>\n",
       "    </tr>\n",
       "    <tr>\n",
       "      <th>49</th>\n",
       "      <td>L</td>\n",
       "      <td>-79.56</td>\n",
       "      <td>138.33</td>\n",
       "    </tr>\n",
       "    <tr>\n",
       "      <th>50</th>\n",
       "      <td>E</td>\n",
       "      <td>-101.83</td>\n",
       "      <td>139.96</td>\n",
       "    </tr>\n",
       "    <tr>\n",
       "      <th>51</th>\n",
       "      <td>D</td>\n",
       "      <td>-48.19</td>\n",
       "      <td>-42.21</td>\n",
       "    </tr>\n",
       "    <tr>\n",
       "      <th>52</th>\n",
       "      <td>G</td>\n",
       "      <td>-82.93</td>\n",
       "      <td>-8.89</td>\n",
       "    </tr>\n",
       "    <tr>\n",
       "      <th>53</th>\n",
       "      <td>R</td>\n",
       "      <td>-85.45</td>\n",
       "      <td>165.46</td>\n",
       "    </tr>\n",
       "    <tr>\n",
       "      <th>54</th>\n",
       "      <td>T</td>\n",
       "      <td>-104.51</td>\n",
       "      <td>164.59</td>\n",
       "    </tr>\n",
       "    <tr>\n",
       "      <th>55</th>\n",
       "      <td>L</td>\n",
       "      <td>-61.22</td>\n",
       "      <td>-36.21</td>\n",
       "    </tr>\n",
       "    <tr>\n",
       "      <th>56</th>\n",
       "      <td>S</td>\n",
       "      <td>-63.89</td>\n",
       "      <td>-29.62</td>\n",
       "    </tr>\n",
       "    <tr>\n",
       "      <th>57</th>\n",
       "      <td>D</td>\n",
       "      <td>-55.55</td>\n",
       "      <td>-39.30</td>\n",
       "    </tr>\n",
       "    <tr>\n",
       "      <th>58</th>\n",
       "      <td>Y</td>\n",
       "      <td>-91.02</td>\n",
       "      <td>4.65</td>\n",
       "    </tr>\n",
       "    <tr>\n",
       "      <th>59</th>\n",
       "      <td>N</td>\n",
       "      <td>57.94</td>\n",
       "      <td>45.36</td>\n",
       "    </tr>\n",
       "    <tr>\n",
       "      <th>60</th>\n",
       "      <td>I</td>\n",
       "      <td>-88.67</td>\n",
       "      <td>116.44</td>\n",
       "    </tr>\n",
       "    <tr>\n",
       "      <th>61</th>\n",
       "      <td>Q</td>\n",
       "      <td>-103.44</td>\n",
       "      <td>169.54</td>\n",
       "    </tr>\n",
       "    <tr>\n",
       "      <th>62</th>\n",
       "      <td>K</td>\n",
       "      <td>-54.79</td>\n",
       "      <td>143.06</td>\n",
       "    </tr>\n",
       "    <tr>\n",
       "      <th>63</th>\n",
       "      <td>E</td>\n",
       "      <td>66.90</td>\n",
       "      <td>19.15</td>\n",
       "    </tr>\n",
       "    <tr>\n",
       "      <th>64</th>\n",
       "      <td>S</td>\n",
       "      <td>-71.15</td>\n",
       "      <td>159.52</td>\n",
       "    </tr>\n",
       "    <tr>\n",
       "      <th>65</th>\n",
       "      <td>T</td>\n",
       "      <td>-119.15</td>\n",
       "      <td>126.67</td>\n",
       "    </tr>\n",
       "    <tr>\n",
       "      <th>66</th>\n",
       "      <td>L</td>\n",
       "      <td>-103.14</td>\n",
       "      <td>154.61</td>\n",
       "    </tr>\n",
       "    <tr>\n",
       "      <th>67</th>\n",
       "      <td>H</td>\n",
       "      <td>-105.58</td>\n",
       "      <td>135.67</td>\n",
       "    </tr>\n",
       "    <tr>\n",
       "      <th>68</th>\n",
       "      <td>L</td>\n",
       "      <td>-106.97</td>\n",
       "      <td>115.78</td>\n",
       "    </tr>\n",
       "    <tr>\n",
       "      <th>69</th>\n",
       "      <td>V</td>\n",
       "      <td>-108.12</td>\n",
       "      <td>139.93</td>\n",
       "    </tr>\n",
       "    <tr>\n",
       "      <th>70</th>\n",
       "      <td>L</td>\n",
       "      <td>-96.02</td>\n",
       "      <td>138.80</td>\n",
       "    </tr>\n",
       "    <tr>\n",
       "      <th>71</th>\n",
       "      <td>R</td>\n",
       "      <td>-117.62</td>\n",
       "      <td>98.81</td>\n",
       "    </tr>\n",
       "    <tr>\n",
       "      <th>72</th>\n",
       "      <td>L</td>\n",
       "      <td>-83.72</td>\n",
       "      <td>150.39</td>\n",
       "    </tr>\n",
       "    <tr>\n",
       "      <th>73</th>\n",
       "      <td>R</td>\n",
       "      <td>-97.66</td>\n",
       "      <td>93.88</td>\n",
       "    </tr>\n",
       "    <tr>\n",
       "      <th>74</th>\n",
       "      <td>G</td>\n",
       "      <td>120.41</td>\n",
       "      <td>125.56</td>\n",
       "    </tr>\n",
       "    <tr>\n",
       "      <th>75</th>\n",
       "      <td>G</td>\n",
       "      <td>174.16</td>\n",
       "      <td>NaN</td>\n",
       "    </tr>\n",
       "  </tbody>\n",
       "</table>\n",
       "<p>76 rows × 3 columns</p>\n",
       "</div>"
      ],
      "text/plain": [
       "   aa     phi     psi\n",
       "0   M     NaN  149.63\n",
       "1   Q  -91.02  138.26\n",
       "2   I -131.10  163.05\n",
       "3   F -115.99  140.23\n",
       "4   V -118.03  114.22\n",
       "5   K  -95.23  127.54\n",
       "6   T  -99.58  170.75\n",
       "7   L  -73.43   -6.94\n",
       "8   T -101.40   14.93\n",
       "9   G   77.44   16.54\n",
       "10  K  -96.27  138.08\n",
       "11  T -119.94  131.76\n",
       "12  I -109.47  141.99\n",
       "13  T -101.44  139.74\n",
       "14  L -126.41  154.00\n",
       "15  E -111.80  121.13\n",
       "16  V -139.02  170.72\n",
       "17  E -120.04  144.51\n",
       "18  P  -54.94  -24.53\n",
       "19  S  -79.84   -8.14\n",
       "20  D  -71.01  148.44\n",
       "21  T  -83.70  160.43\n",
       "22  I  -61.33  -37.21\n",
       "23  E  -57.57  -40.49\n",
       "24  N  -65.49  -44.44\n",
       "25  V  -58.42  -46.41\n",
       "26  K  -60.81  -37.96\n",
       "27  A  -66.12  -38.12\n",
       "28  K  -64.22  -37.26\n",
       "29  I  -70.00  -39.56\n",
       ".. ..     ...     ...\n",
       "46  G   61.71   21.62\n",
       "47  K -115.07  142.71\n",
       "48  Q  -85.77  130.28\n",
       "49  L  -79.56  138.33\n",
       "50  E -101.83  139.96\n",
       "51  D  -48.19  -42.21\n",
       "52  G  -82.93   -8.89\n",
       "53  R  -85.45  165.46\n",
       "54  T -104.51  164.59\n",
       "55  L  -61.22  -36.21\n",
       "56  S  -63.89  -29.62\n",
       "57  D  -55.55  -39.30\n",
       "58  Y  -91.02    4.65\n",
       "59  N   57.94   45.36\n",
       "60  I  -88.67  116.44\n",
       "61  Q -103.44  169.54\n",
       "62  K  -54.79  143.06\n",
       "63  E   66.90   19.15\n",
       "64  S  -71.15  159.52\n",
       "65  T -119.15  126.67\n",
       "66  L -103.14  154.61\n",
       "67  H -105.58  135.67\n",
       "68  L -106.97  115.78\n",
       "69  V -108.12  139.93\n",
       "70  L  -96.02  138.80\n",
       "71  R -117.62   98.81\n",
       "72  L  -83.72  150.39\n",
       "73  R  -97.66   93.88\n",
       "74  G  120.41  125.56\n",
       "75  G  174.16     NaN\n",
       "\n",
       "[76 rows x 3 columns]"
      ]
     },
     "execution_count": 42,
     "metadata": {},
     "output_type": "execute_result"
    }
   ],
   "source": [
    "prot.get_torsionals(sidechain=False)"
   ]
  },
  {
   "cell_type": "code",
   "execution_count": 43,
   "metadata": {},
   "outputs": [
    {
     "data": {
      "image/png": "[encoded data removed]",
      "text/plain": [
       "<matplotlib.figure.Figure at 0x7f0008ef6940>"
      ]
     },
     "metadata": {},
     "output_type": "display_data"
    }
   ],
   "source": [
    "bmb.plot_ramachandran(prot);"
   ]
  },
  {
   "cell_type": "code",
   "execution_count": null,
   "metadata": {
    "collapsed": true
   },
   "outputs": [],
   "source": []
  }
 ],
 "metadata": {
  "kernelspec": {
   "display_name": "Python 3",
   "language": "python",
   "name": "python3"
  },
  "language_info": {
   "codemirror_mode": {
    "name": "ipython",
    "version": 3
   },
   "file_extension": ".py",
   "mimetype": "text/x-python",
   "name": "python",
   "nbconvert_exporter": "python",
   "pygments_lexer": "ipython3",
   "version": "3.6.2"
  }
 },
 "nbformat": 4,
 "nbformat_minor": 2
}
